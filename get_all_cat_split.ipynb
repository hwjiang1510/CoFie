{
 "cells": [
  {
   "cell_type": "code",
   "execution_count": 1,
   "metadata": {},
   "outputs": [],
   "source": [
    "import os\n",
    "import json\n",
    "import numpy as np\n",
    "import random"
   ]
  },
  {
   "cell_type": "code",
   "execution_count": 3,
   "metadata": {},
   "outputs": [],
   "source": [
    "ShapeNet_ids = {\n",
    "    'table': '04379243', 'car': '02958343', 'chair': '03001627', 'airplane': '02691156', 'sofa': '04256520',\n",
    "    'rifle': '04090263', 'lamp': '03636649', 'watercraft': '04530566', 'bench': '02828884', 'loudspeaker': '03691459',\n",
    "    'cabinet': '02933112', 'display': '03211117', 'telephone': '04401088', 'bus': '02924116', 'bathtub': '02808440',\n",
    "    'guitar': '03467517', 'faucet': '03325088', 'clock': '03046257', 'flowerport': '03991062', 'jar': '03593526',\n",
    "    'bottle': '02876657', 'bookshelf': '02871439', 'laptop': '03642806', 'knife': '03624134', 'train': '04468005',\n",
    "    'trash bin': '02747177', 'motorbike': '03790512', 'pistol': '03948459', 'file cabinet': '03337140',\n",
    "    'bed': '02818832', 'piano': '03928116', 'stove': '04330267', 'mug': '03797390', 'bowl': '02880940',\n",
    "    'washer': '04554684', 'printer': '04004475', 'helmet': '03513137', 'microwaves': '03761084',\n",
    "    'skateboard': '04225987', 'tower': '04460130', 'camera': '02942699', 'basket': '02801938', 'can': '02946921',\n",
    "    'pillow': '03938244', 'mailbox': '03710193', 'dishwasher': '03207941', 'rocket': '04099429', 'bag': '02773838',\n",
    "    'birdhouse': '02843684', 'earphone': '03261776', 'microphone': '03759954', 'remote': '04074963',\n",
    "    'keyboard': '03085013', 'bicycle': '02834778', 'cap': '02954340'\n",
    "}\n",
    "\n",
    "train_categories = ['airplane', 'lamp', 'airplane', 'sofa', 'table']\n",
    "test_categories = ['cabinet', 'car', 'display', 'bus', 'guitar', 'clock', 'bottle', 'mug', 'dishwasher', 'rifle']\n",
    "\n",
    "ShapeNet_general_train = ['airplane', 'bench', 'cabinet', 'car', 'chair', 'display', 'lamp', 'loudspeaker', 'rifle',\n",
    "    'sofa', 'table', 'telephone', 'watercraft']\n",
    "\n",
    "ShapeNet_general_test_unseen = ['bus', 'guitar', 'clock', 'bottle', 'train', 'mug', 'washer', 'skateboard', 'dishwasher', 'pistol']"
   ]
  },
  {
   "cell_type": "code",
   "execution_count": 4,
   "metadata": {},
   "outputs": [],
   "source": [
    "root = '/vision/vision_data/ShapeNetCore.v2'\n",
    "#all_cat = [it for it in os.listdir(root) if len(it) == 8]\n",
    "all_cat = [ShapeNet_ids[it] for it in test_categories]"
   ]
  },
  {
   "cell_type": "code",
   "execution_count": 8,
   "metadata": {},
   "outputs": [],
   "source": [
    "train_dict = {'ShapeNetV2': {}}\n",
    "test_dict = {'ShapeNetV2': {}}\n",
    "\n",
    "max_num = 25\n",
    "\n",
    "for cur_cat in all_cat:\n",
    "    #cat_path = os.path.join(root, cur_cat)\n",
    "    cat_path = os.path.join('/scratch/cluster/hwjiang/dataset/deepls/data/SdfSamples/ShapeNetV2', cur_cat)\n",
    "    all_instance = os.listdir(cat_path)\n",
    "    if len(all_instance) > max_num:\n",
    "        selected_instance = random.sample(all_instance, max_num)\n",
    "    else:\n",
    "        selected_instance = all_instance\n",
    "    # num_instances = len(selected_instance)\n",
    "    # num_train_instance = int(num_instances * 0.9)\n",
    "    # train_dict['ShapeNetV2'][cur_cat] = selected_instance[:num_train_instance]\n",
    "    # test_dict['ShapeNetV2'][cur_cat] = selected_instance[num_train_instance:]\n",
    "    test_dict['ShapeNetV2'][cur_cat] = [it[:-4] for it in selected_instance]\n",
    "\n",
    "# with open('10cat_train.json', 'w') as f:\n",
    "#     json.dump(train_dict, f, indent=4)\n",
    "\n",
    "with open('./examples/splits/10cat_test.json', 'w') as f:\n",
    "    json.dump(test_dict, f, indent=4)"
   ]
  }
 ],
 "metadata": {
  "kernelspec": {
   "display_name": "3dgen",
   "language": "python",
   "name": "python3"
  },
  "language_info": {
   "codemirror_mode": {
    "name": "ipython",
    "version": 3
   },
   "file_extension": ".py",
   "mimetype": "text/x-python",
   "name": "python",
   "nbconvert_exporter": "python",
   "pygments_lexer": "ipython3",
   "version": "3.8.17"
  }
 },
 "nbformat": 4,
 "nbformat_minor": 2
}
