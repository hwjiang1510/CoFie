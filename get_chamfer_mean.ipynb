{
 "cells": [
  {
   "cell_type": "code",
   "execution_count": 4,
   "metadata": {},
   "outputs": [],
   "source": [
    "import numpy as np"
   ]
  },
  {
   "cell_type": "code",
   "execution_count": 7,
   "metadata": {},
   "outputs": [
    {
     "name": "stdout",
     "output_type": "stream",
     "text": [
      "Category all, chamfer 0.00039106491214733346\n",
      "\n",
      "Category 03001627, chamfer 0.000770346015926813\n",
      "\n",
      "Category 03636649, chamfer 0.0006566762010520613\n",
      "\n",
      "Category 02691156, chamfer 7.961679594005356e-05\n",
      "\n",
      "Category 04256520, chamfer 0.0002530806486277004\n",
      "\n",
      "Category 04379243, chamfer 0.0002183617654168081\n",
      "\n"
     ]
    }
   ],
   "source": [
    "file = 'examples/all/Evaluation/18/chamfer.csv'\n",
    "\n",
    "with open(file, 'r') as f:\n",
    "    text = f.readlines()\n",
    "\n",
    "results_dict_all = {'all': []}\n",
    "\n",
    "for line in text[1:]:\n",
    "    cur_res = float(line.strip().split(',')[-1])\n",
    "    cat = line.strip().split(',')[0].split('/')[1]\n",
    "    if cat not in results_dict_all.keys():\n",
    "        results_dict_all[cat] = []\n",
    "    results_dict_all[cat].append(cur_res)\n",
    "    results_dict_all['all'].append(cur_res)\n",
    "\n",
    "for k, v in results_dict_all.items():\n",
    "    print('Category {}, chamfer {}\\n'.format(k, np.mean(v)))"
   ]
  },
  {
   "cell_type": "code",
   "execution_count": 10,
   "metadata": {},
   "outputs": [
    {
     "name": "stdout",
     "output_type": "stream",
     "text": [
      "Category all, chamfer 0.00019471869164638947\n",
      "\n",
      "Category 03001627, chamfer 0.00021370360429827977\n",
      "\n",
      "Category 03636649, chamfer 0.0003110171396510958\n",
      "\n",
      "Category 02691156, chamfer 8.413616493467887e-05\n",
      "\n",
      "Category 04256520, chamfer 0.0002507427908474024\n",
      "\n",
      "Category 04379243, chamfer 0.00011513285325960392\n",
      "\n"
     ]
    }
   ],
   "source": [
    "file = 'examples/all/Evaluation/18/chamfer.csv'\n",
    "\n",
    "with open(file, 'r') as f:\n",
    "    text = f.readlines()\n",
    "\n",
    "results_dict_all = {'all': []}\n",
    "\n",
    "for line in text[1:]:\n",
    "    cur_res = float(line.strip().split(',')[-1])\n",
    "    cat = line.strip().split(',')[0].split('/')[1]\n",
    "    if cat not in results_dict_all.keys():\n",
    "        results_dict_all[cat] = []\n",
    "    results_dict_all[cat].append(cur_res)\n",
    "    results_dict_all['all'].append(cur_res)\n",
    "\n",
    "for k, v in results_dict_all.items():\n",
    "    print('Category {}, chamfer {}\\n'.format(k, np.mean(v)))"
   ]
  },
  {
   "cell_type": "code",
   "execution_count": 4,
   "metadata": {},
   "outputs": [
    {
     "name": "stdout",
     "output_type": "stream",
     "text": [
      "Category all, chamfer 0.00034493390127275967\n",
      "\n",
      "Category 03001627, chamfer 0.000752475720197723\n",
      "\n",
      "Category 03636649, chamfer 0.00046281189670257573\n",
      "\n",
      "Category 02691156, chamfer 7.559639495193651e-05\n",
      "\n",
      "Category 04256520, chamfer 0.0002484119090304542\n",
      "\n",
      "Category 04379243, chamfer 0.0002098260946166067\n",
      "\n"
     ]
    }
   ],
   "source": [
    "file = 'examples/all_rot/Evaluation/18/chamfer.csv'\n",
    "\n",
    "with open(file, 'r') as f:\n",
    "    text = f.readlines()\n",
    "\n",
    "results_dict_all = {'all': []}\n",
    "\n",
    "for line in text[1:]:\n",
    "    cur_res = float(line.strip().split(',')[-1])\n",
    "    cat = line.strip().split(',')[0].split('/')[1]\n",
    "    if cat not in results_dict_all.keys():\n",
    "        results_dict_all[cat] = []\n",
    "    results_dict_all[cat].append(cur_res)\n",
    "    results_dict_all['all'].append(cur_res)\n",
    "\n",
    "for k, v in results_dict_all.items():\n",
    "    print('Category {}, chamfer {}\\n'.format(k, np.mean(v)))"
   ]
  },
  {
   "cell_type": "code",
   "execution_count": 5,
   "metadata": {},
   "outputs": [
    {
     "name": "stdout",
     "output_type": "stream",
     "text": [
      "Category all, chamfer 0.00023292750830201074\n",
      "\n",
      "Category 03001627, chamfer 0.000276650490535731\n",
      "\n",
      "Category 03636649, chamfer 0.00034510998147221884\n",
      "\n",
      "Category 02691156, chamfer 7.276517182564331e-05\n",
      "\n",
      "Category 04256520, chamfer 0.0002501039268084702\n",
      "\n",
      "Category 04379243, chamfer 0.00022263134980201346\n",
      "\n"
     ]
    }
   ],
   "source": [
    "file = 'examples/all_computed_rot/Evaluation/18/chamfer.csv'\n",
    "\n",
    "with open(file, 'r') as f:\n",
    "    text = f.readlines()\n",
    "\n",
    "results_dict_all = {'all': []}\n",
    "\n",
    "for line in text[1:]:\n",
    "    cur_res = float(line.strip().split(',')[-1])\n",
    "    cat = line.strip().split(',')[0].split('/')[1]\n",
    "    if cat not in results_dict_all.keys():\n",
    "        results_dict_all[cat] = []\n",
    "    results_dict_all[cat].append(cur_res)\n",
    "    results_dict_all['all'].append(cur_res)\n",
    "\n",
    "for k, v in results_dict_all.items():\n",
    "    print('Category {}, chamfer {}\\n'.format(k, np.mean(v)))"
   ]
  },
  {
   "cell_type": "code",
   "execution_count": 2,
   "metadata": {},
   "outputs": [
    {
     "name": "stdout",
     "output_type": "stream",
     "text": [
      "Category all, chamfer 0.00024191218366967203\n",
      "\n",
      "Category 03001627, chamfer 0.0002704119942990144\n",
      "\n",
      "Category 03636649, chamfer 0.0003820754358756874\n",
      "\n",
      "Category 02691156, chamfer 8.331963444850932e-05\n",
      "\n",
      "Category 04256520, chamfer 0.00024651226585571304\n",
      "\n",
      "Category 04379243, chamfer 0.0002289515765071966\n",
      "\n"
     ]
    }
   ],
   "source": [
    "file = 'examples/all_computed_rot_trans/Evaluation/18/chamfer.csv'\n",
    "\n",
    "with open(file, 'r') as f:\n",
    "    text = f.readlines()\n",
    "\n",
    "results_dict_all = {'all': []}\n",
    "\n",
    "for line in text[1:]:\n",
    "    cur_res = float(line.strip().split(',')[-1])\n",
    "    cat = line.strip().split(',')[0].split('/')[1]\n",
    "    if cat not in results_dict_all.keys():\n",
    "        results_dict_all[cat] = []\n",
    "    results_dict_all[cat].append(cur_res)\n",
    "    results_dict_all['all'].append(cur_res)\n",
    "\n",
    "for k, v in results_dict_all.items():\n",
    "    print('Category {}, chamfer {}\\n'.format(k, np.mean(v)))"
   ]
  },
  {
   "cell_type": "code",
   "execution_count": 7,
   "metadata": {},
   "outputs": [
    {
     "name": "stdout",
     "output_type": "stream",
     "text": [
      "Category all, chamfer 0.00015334646886539484\n",
      "\n",
      "Category 03001627, chamfer 0.00011923605425976868\n",
      "\n",
      "Category 03636649, chamfer 0.0001837791024955382\n",
      "\n",
      "Category 02691156, chamfer 9.173433029359526e-05\n",
      "\n",
      "Category 04256520, chamfer 0.0002568839763239305\n",
      "\n",
      "Category 04379243, chamfer 0.00011305225607780386\n",
      "\n"
     ]
    }
   ],
   "source": [
    "import numpy as np\n",
    "file = 'examples/all_computed_rot_quad_last/Evaluation/18/chamfer.csv'\n",
    "\n",
    "with open(file, 'r') as f:\n",
    "    text = f.readlines()\n",
    "\n",
    "results_dict_all = {'all': []}\n",
    "\n",
    "for line in text[1:]:\n",
    "    cur_res = float(line.strip().split(',')[-1])\n",
    "    cat = line.strip().split(',')[0].split('/')[1]\n",
    "    if cat not in results_dict_all.keys():\n",
    "        results_dict_all[cat] = []\n",
    "    results_dict_all[cat].append(cur_res)\n",
    "    results_dict_all['all'].append(cur_res)\n",
    "\n",
    "for k, v in results_dict_all.items():\n",
    "    print('Category {}, chamfer {}\\n'.format(k, np.mean(v)))"
   ]
  },
  {
   "cell_type": "code",
   "execution_count": 10,
   "metadata": {},
   "outputs": [
    {
     "name": "stdout",
     "output_type": "stream",
     "text": [
      "Category all, chamfer 0.00021308658312592962\n",
      "\n",
      "Category 03001627, chamfer 0.0002349496981951504\n",
      "\n",
      "Category 03636649, chamfer 0.0003130753202728825\n",
      "\n",
      "Category 02691156, chamfer 0.0001338866233072949\n",
      "\n",
      "Category 04256520, chamfer 0.00024382094937781845\n",
      "\n",
      "Category 04379243, chamfer 0.00014101211138065504\n",
      "\n"
     ]
    }
   ],
   "source": [
    "import numpy as np\n",
    "file = 'examples/all_computed_rot_quad_last/Evaluation/18/chamfer.csv'\n",
    "\n",
    "with open(file, 'r') as f:\n",
    "    text = f.readlines()\n",
    "\n",
    "results_dict_all = {'all': []}\n",
    "\n",
    "for line in text[1:]:\n",
    "    cur_res = float(line.strip().split(',')[-1])\n",
    "    cat = line.strip().split(',')[0].split('/')[1]\n",
    "    if cat not in results_dict_all.keys():\n",
    "        results_dict_all[cat] = []\n",
    "    results_dict_all[cat].append(cur_res)\n",
    "    results_dict_all['all'].append(cur_res)\n",
    "\n",
    "for k, v in results_dict_all.items():\n",
    "    print('Category {}, chamfer {}\\n'.format(k, np.mean(v)))"
   ]
  },
  {
   "cell_type": "code",
   "execution_count": 9,
   "metadata": {},
   "outputs": [
    {
     "name": "stdout",
     "output_type": "stream",
     "text": [
      "Category all, chamfer 0.0002629617226713784\n",
      "\n",
      "Category 03001627, chamfer 0.0003861485550488351\n",
      "\n",
      "Category 03636649, chamfer 0.0003946966833427067\n",
      "\n",
      "Category 02691156, chamfer 0.00015565493702280578\n",
      "\n",
      "Category 04256520, chamfer 0.00024563409961363386\n",
      "\n",
      "Category 04379243, chamfer 0.00014006554827155832\n",
      "\n"
     ]
    }
   ],
   "source": [
    "import numpy as np\n",
    "file = 'examples/all_computed_rot_quad_last2/Evaluation/18/chamfer.csv'\n",
    "\n",
    "with open(file, 'r') as f:\n",
    "    text = f.readlines()\n",
    "\n",
    "results_dict_all = {'all': []}\n",
    "\n",
    "for line in text[1:]:\n",
    "    cur_res = float(line.strip().split(',')[-1])\n",
    "    cat = line.strip().split(',')[0].split('/')[1]\n",
    "    if cat not in results_dict_all.keys():\n",
    "        results_dict_all[cat] = []\n",
    "    results_dict_all[cat].append(cur_res)\n",
    "    results_dict_all['all'].append(cur_res)\n",
    "\n",
    "for k, v in results_dict_all.items():\n",
    "    print('Category {}, chamfer {}\\n'.format(k, np.mean(v)))"
   ]
  },
  {
   "cell_type": "code",
   "execution_count": 6,
   "metadata": {},
   "outputs": [
    {
     "name": "stdout",
     "output_type": "stream",
     "text": [
      "Category all, chamfer 0.00015375313513904228\n",
      "\n",
      "Category 03001627, chamfer 0.0001232066188969113\n",
      "\n",
      "Category 03636649, chamfer 0.00018426784121593334\n",
      "\n",
      "Category 02691156, chamfer 9.772254501797746e-05\n",
      "\n",
      "Category 04256520, chamfer 0.00024787850282280676\n",
      "\n",
      "Category 04379243, chamfer 0.00011385737676705461\n",
      "\n"
     ]
    }
   ],
   "source": [
    "import numpy as np\n",
    "file = 'examples/all_computed_rot_5layers/Evaluation/16/chamfer.csv'\n",
    "\n",
    "with open(file, 'r') as f:\n",
    "    text = f.readlines()\n",
    "\n",
    "results_dict_all = {'all': []}\n",
    "\n",
    "for line in text[1:]:\n",
    "    cur_res = float(line.strip().split(',')[-1])\n",
    "    cat = line.strip().split(',')[0].split('/')[1]\n",
    "    if cat not in results_dict_all.keys():\n",
    "        results_dict_all[cat] = []\n",
    "    results_dict_all[cat].append(cur_res)\n",
    "    results_dict_all['all'].append(cur_res)\n",
    "\n",
    "for k, v in results_dict_all.items():\n",
    "    print('Category {}, chamfer {}\\n'.format(k, np.mean(v)))"
   ]
  },
  {
   "cell_type": "code",
   "execution_count": 3,
   "metadata": {},
   "outputs": [
    {
     "name": "stdout",
     "output_type": "stream",
     "text": [
      "Category all, chamfer 0.0001551908967864233\n",
      "\n",
      "Category 03001627, chamfer 0.0001353830321282389\n",
      "\n",
      "Category 03636649, chamfer 0.0001902307545846051\n",
      "\n",
      "Category 02691156, chamfer 9.095150766566056e-05\n",
      "\n",
      "Category 04256520, chamfer 0.0002465482972568279\n",
      "\n",
      "Category 04379243, chamfer 0.00011165242041729297\n",
      "\n"
     ]
    }
   ],
   "source": [
    "import numpy as np\n",
    "file = 'examples/all_quad_last/Evaluation/18/chamfer.csv'\n",
    "\n",
    "with open(file, 'r') as f:\n",
    "    text = f.readlines()\n",
    "\n",
    "results_dict_all = {'all': []}\n",
    "\n",
    "for line in text[1:]:\n",
    "    cur_res = float(line.strip().split(',')[-1])\n",
    "    cat = line.strip().split(',')[0].split('/')[1]\n",
    "    if cat not in results_dict_all.keys():\n",
    "        results_dict_all[cat] = []\n",
    "    results_dict_all[cat].append(cur_res)\n",
    "    results_dict_all['all'].append(cur_res)\n",
    "\n",
    "for k, v in results_dict_all.items():\n",
    "    print('Category {}, chamfer {}\\n'.format(k, np.mean(v)))"
   ]
  },
  {
   "cell_type": "code",
   "execution_count": 2,
   "metadata": {},
   "outputs": [
    {
     "name": "stdout",
     "output_type": "stream",
     "text": [
      "Category all, chamfer 0.0005152290321387963\n",
      "\n",
      "Category 03001627, chamfer 0.0009667371535010829\n",
      "\n",
      "Category 03636649, chamfer 0.0010676931967971836\n",
      "\n",
      "Category 02691156, chamfer 9.370577713861709e-05\n",
      "\n",
      "Category 04256520, chamfer 0.000255317023752249\n",
      "\n",
      "Category 04379243, chamfer 0.00021978249678658595\n",
      "\n"
     ]
    }
   ],
   "source": [
    "file = 'examples/all_64/Evaluation/18/chamfer.csv'\n",
    "\n",
    "with open(file, 'r') as f:\n",
    "    text = f.readlines()\n",
    "\n",
    "results_dict_all = {'all': []}\n",
    "\n",
    "for line in text[1:]:\n",
    "    cur_res = float(line.strip().split(',')[-1])\n",
    "    cat = line.strip().split(',')[0].split('/')[1]\n",
    "    if cat not in results_dict_all.keys():\n",
    "        results_dict_all[cat] = []\n",
    "    results_dict_all[cat].append(cur_res)\n",
    "    results_dict_all['all'].append(cur_res)\n",
    "\n",
    "for k, v in results_dict_all.items():\n",
    "    print('Category {}, chamfer {}\\n'.format(k, np.mean(v)))"
   ]
  },
  {
   "cell_type": "code",
   "execution_count": 2,
   "metadata": {},
   "outputs": [
    {
     "name": "stdout",
     "output_type": "stream",
     "text": [
      "Category all, chamfer 0.00038624298592511896\n",
      "\n",
      "Category 03001627, chamfer 0.0007723995881376949\n",
      "\n",
      "Category 03636649, chamfer 0.0006248212305881859\n",
      "\n",
      "Category 02691156, chamfer 8.570775677419772e-05\n",
      "\n",
      "Category 04256520, chamfer 0.00025388269393389063\n",
      "\n",
      "Category 04379243, chamfer 0.0002175730563243804\n",
      "\n"
     ]
    }
   ],
   "source": [
    "file = 'examples/all_64_rot/Evaluation/18/chamfer.csv'\n",
    "\n",
    "with open(file, 'r') as f:\n",
    "    text = f.readlines()\n",
    "\n",
    "results_dict_all = {'all': []}\n",
    "\n",
    "for line in text[1:]:\n",
    "    cur_res = float(line.strip().split(',')[-1])\n",
    "    cat = line.strip().split(',')[0].split('/')[1]\n",
    "    if cat not in results_dict_all.keys():\n",
    "        results_dict_all[cat] = []\n",
    "    results_dict_all[cat].append(cur_res)\n",
    "    results_dict_all['all'].append(cur_res)\n",
    "\n",
    "for k, v in results_dict_all.items():\n",
    "    print('Category {}, chamfer {}\\n'.format(k, np.mean(v)))"
   ]
  },
  {
   "cell_type": "code",
   "execution_count": 3,
   "metadata": {},
   "outputs": [
    {
     "name": "stdout",
     "output_type": "stream",
     "text": [
      "Category all, chamfer 0.00030292412574134934\n",
      "\n",
      "Category 03001627, chamfer 0.0003906913650201148\n",
      "\n",
      "Category 03636649, chamfer 0.0005213906115050063\n",
      "\n",
      "Category 02691156, chamfer 0.00012274839180418737\n",
      "\n",
      "Category 04256520, chamfer 0.0002549946659634206\n",
      "\n",
      "Category 04379243, chamfer 0.0002300616287707437\n",
      "\n"
     ]
    }
   ],
   "source": [
    "file = 'examples/all_64_computed_rot/Evaluation/18/chamfer.csv'\n",
    "\n",
    "with open(file, 'r') as f:\n",
    "    text = f.readlines()\n",
    "\n",
    "results_dict_all = {'all': []}\n",
    "\n",
    "for line in text[1:]:\n",
    "    cur_res = float(line.strip().split(',')[-1])\n",
    "    cat = line.strip().split(',')[0].split('/')[1]\n",
    "    if cat not in results_dict_all.keys():\n",
    "        results_dict_all[cat] = []\n",
    "    results_dict_all[cat].append(cur_res)\n",
    "    results_dict_all['all'].append(cur_res)\n",
    "\n",
    "for k, v in results_dict_all.items():\n",
    "    print('Category {}, chamfer {}\\n'.format(k, np.mean(v)))"
   ]
  },
  {
   "cell_type": "code",
   "execution_count": 4,
   "metadata": {},
   "outputs": [
    {
     "name": "stdout",
     "output_type": "stream",
     "text": [
      "Category all, chamfer 0.00046219366364006116\n",
      "\n",
      "Category 03001627, chamfer 0.0005719386455746461\n",
      "\n",
      "Category 03636649, chamfer 0.0010211366099279985\n",
      "\n",
      "Category 02691156, chamfer 0.0002126160964129321\n",
      "\n",
      "Category 04256520, chamfer 0.0002617410735424364\n",
      "\n",
      "Category 04379243, chamfer 0.00025012059165836797\n",
      "\n"
     ]
    }
   ],
   "source": [
    "file = 'examples/all_32/Evaluation/18/chamfer.csv'\n",
    "\n",
    "with open(file, 'r') as f:\n",
    "    text = f.readlines()\n",
    "\n",
    "results_dict_all = {'all': []}\n",
    "\n",
    "for line in text[1:]:\n",
    "    cur_res = float(line.strip().split(',')[-1])\n",
    "    cat = line.strip().split(',')[0].split('/')[1]\n",
    "    if cat not in results_dict_all.keys():\n",
    "        results_dict_all[cat] = []\n",
    "    results_dict_all[cat].append(cur_res)\n",
    "    results_dict_all['all'].append(cur_res)\n",
    "\n",
    "for k, v in results_dict_all.items():\n",
    "    print('Category {}, chamfer {}\\n'.format(k, np.mean(v)))"
   ]
  },
  {
   "cell_type": "code",
   "execution_count": 3,
   "metadata": {},
   "outputs": [
    {
     "name": "stdout",
     "output_type": "stream",
     "text": [
      "Category all, chamfer 0.00042400897224189737\n",
      "\n",
      "Category 03001627, chamfer 0.0008314086794758666\n",
      "\n",
      "Category 03636649, chamfer 0.000728620199304306\n",
      "\n",
      "Category 02691156, chamfer 9.755745913675035e-05\n",
      "\n",
      "Category 04256520, chamfer 0.00025851936994317903\n",
      "\n",
      "Category 04379243, chamfer 0.00022838313578342313\n",
      "\n"
     ]
    }
   ],
   "source": [
    "file = 'examples/all_32_rot/Evaluation/18/chamfer.csv'\n",
    "\n",
    "with open(file, 'r') as f:\n",
    "    text = f.readlines()\n",
    "\n",
    "results_dict_all = {'all': []}\n",
    "\n",
    "for line in text[1:]:\n",
    "    cur_res = float(line.strip().split(',')[-1])\n",
    "    cat = line.strip().split(',')[0].split('/')[1]\n",
    "    if cat not in results_dict_all.keys():\n",
    "        results_dict_all[cat] = []\n",
    "    results_dict_all[cat].append(cur_res)\n",
    "    results_dict_all['all'].append(cur_res)\n",
    "\n",
    "for k, v in results_dict_all.items():\n",
    "    print('Category {}, chamfer {}\\n'.format(k, np.mean(v)))"
   ]
  },
  {
   "cell_type": "code",
   "execution_count": 4,
   "metadata": {},
   "outputs": [
    {
     "name": "stdout",
     "output_type": "stream",
     "text": [
      "Category all, chamfer 0.0004480194175134822\n",
      "\n",
      "Category 03001627, chamfer 0.0006037762723874986\n",
      "\n",
      "Category 03636649, chamfer 0.0008078436684808064\n",
      "\n",
      "Category 02691156, chamfer 0.00027354060811030746\n",
      "\n",
      "Category 04256520, chamfer 0.00026275389976211514\n",
      "\n",
      "Category 04379243, chamfer 0.00030152805011912425\n",
      "\n"
     ]
    }
   ],
   "source": [
    "file = 'examples/all_32_computed_rot/Evaluation/18/chamfer.csv'\n",
    "\n",
    "with open(file, 'r') as f:\n",
    "    text = f.readlines()\n",
    "\n",
    "results_dict_all = {'all': []}\n",
    "\n",
    "for line in text[1:]:\n",
    "    cur_res = float(line.strip().split(',')[-1])\n",
    "    cat = line.strip().split(',')[0].split('/')[1]\n",
    "    if cat not in results_dict_all.keys():\n",
    "        results_dict_all[cat] = []\n",
    "    results_dict_all[cat].append(cur_res)\n",
    "    results_dict_all['all'].append(cur_res)\n",
    "\n",
    "for k, v in results_dict_all.items():\n",
    "    print('Category {}, chamfer {}\\n'.format(k, np.mean(v)))"
   ]
  },
  {
   "cell_type": "code",
   "execution_count": 7,
   "metadata": {},
   "outputs": [
    {
     "name": "stdout",
     "output_type": "stream",
     "text": [
      "Category all, chamfer 0.0004966345193872\n",
      "\n",
      "Category 03001627, chamfer 0.0006687217073747307\n",
      "\n",
      "Category 03636649, chamfer 0.0009326346127426147\n",
      "\n",
      "Category 02691156, chamfer 0.0002906595875928131\n",
      "\n",
      "Category 04256520, chamfer 0.00026326538897414857\n",
      "\n",
      "Category 04379243, chamfer 0.00033821653153094574\n",
      "\n"
     ]
    }
   ],
   "source": [
    "import numpy as np\n",
    "file = 'examples/all_32_computed_rot_linear_2layer/Evaluation/18/chamfer.csv'\n",
    "\n",
    "with open(file, 'r') as f:\n",
    "    text = f.readlines()\n",
    "\n",
    "results_dict_all = {'all': []}\n",
    "\n",
    "for line in text[1:]:\n",
    "    cur_res = float(line.strip().split(',')[-1])\n",
    "    cat = line.strip().split(',')[0].split('/')[1]\n",
    "    if cat not in results_dict_all.keys():\n",
    "        results_dict_all[cat] = []\n",
    "    results_dict_all[cat].append(cur_res)\n",
    "    results_dict_all['all'].append(cur_res)\n",
    "\n",
    "for k, v in results_dict_all.items():\n",
    "    print('Category {}, chamfer {}\\n'.format(k, np.mean(v)))"
   ]
  },
  {
   "cell_type": "code",
   "execution_count": 8,
   "metadata": {},
   "outputs": [
    {
     "name": "stdout",
     "output_type": "stream",
     "text": [
      "Category all, chamfer 0.00048595764924418583\n",
      "\n",
      "Category 03001627, chamfer 0.0006225568623398254\n",
      "\n",
      "Category 03636649, chamfer 0.0010858230914944146\n",
      "\n",
      "Category 02691156, chamfer 0.0001844422742778826\n",
      "\n",
      "Category 04256520, chamfer 0.0002584591827949094\n",
      "\n",
      "Category 04379243, chamfer 0.00028670278809963547\n",
      "\n"
     ]
    }
   ],
   "source": [
    "import numpy as np\n",
    "file = 'examples/all_32_computed_rot_quad_2layer/Evaluation/18/chamfer.csv'\n",
    "\n",
    "with open(file, 'r') as f:\n",
    "    text = f.readlines()\n",
    "\n",
    "results_dict_all = {'all': []}\n",
    "\n",
    "for line in text[1:]:\n",
    "    cur_res = float(line.strip().split(',')[-1])\n",
    "    cat = line.strip().split(',')[0].split('/')[1]\n",
    "    if cat not in results_dict_all.keys():\n",
    "        results_dict_all[cat] = []\n",
    "    results_dict_all[cat].append(cur_res)\n",
    "    results_dict_all['all'].append(cur_res)\n",
    "\n",
    "for k, v in results_dict_all.items():\n",
    "    print('Category {}, chamfer {}\\n'.format(k, np.mean(v)))"
   ]
  },
  {
   "cell_type": "code",
   "execution_count": 3,
   "metadata": {},
   "outputs": [
    {
     "name": "stdout",
     "output_type": "stream",
     "text": [
      "Category all, chamfer 0.00026569892500574884\n",
      "\n",
      "Category 03001627, chamfer 0.00027458858945022147\n",
      "\n",
      "Category 03636649, chamfer 0.00047222119676628755\n",
      "\n",
      "Category 02691156, chamfer 8.514169445556307e-05\n",
      "\n",
      "Category 04256520, chamfer 0.0002577248345550412\n",
      "\n",
      "Category 04379243, chamfer 0.00023935168966829907\n",
      "\n"
     ]
    }
   ],
   "source": [
    "file = 'examples/all_computed_rot_quad/Evaluation/18/chamfer.csv'\n",
    "\n",
    "with open(file, 'r') as f:\n",
    "    text = f.readlines()\n",
    "\n",
    "results_dict_all = {'all': []}\n",
    "\n",
    "for line in text[1:]:\n",
    "    cur_res = float(line.strip().split(',')[-1])\n",
    "    cat = line.strip().split(',')[0].split('/')[1]\n",
    "    if cat not in results_dict_all.keys():\n",
    "        results_dict_all[cat] = []\n",
    "    results_dict_all[cat].append(cur_res)\n",
    "    results_dict_all['all'].append(cur_res)\n",
    "\n",
    "for k, v in results_dict_all.items():\n",
    "    print('Category {}, chamfer {}\\n'.format(k, np.mean(v)))"
   ]
  },
  {
   "cell_type": "markdown",
   "metadata": {},
   "source": [
    "# unseen category"
   ]
  },
  {
   "cell_type": "code",
   "execution_count": 3,
   "metadata": {},
   "outputs": [
    {
     "name": "stdout",
     "output_type": "stream",
     "text": [
      "Category all, chamfer 0.0006818734901395409\n",
      "\n",
      "Category 02933112, chamfer 0.0009612894153394377\n",
      "\n",
      "Category 02958343, chamfer 0.0005672429083620948\n",
      "\n",
      "Category 03211117, chamfer 0.0001990971650042044\n",
      "\n",
      "Category 02924116, chamfer 0.0007187524625611016\n",
      "\n",
      "Category 03467517, chamfer 5.92358360375859e-05\n",
      "\n",
      "Category 03046257, chamfer 0.0004064727229994066\n",
      "\n",
      "Category 02876657, chamfer 0.001248308958217339\n",
      "\n",
      "Category 03797390, chamfer 0.0007188922067232152\n",
      "\n",
      "Category 03207941, chamfer 0.0018471425077204741\n",
      "\n",
      "Category 04090263, chamfer 9.230071843054863e-05\n",
      "\n"
     ]
    }
   ],
   "source": [
    "import numpy as np\n",
    "file = 'examples/all_rot/Evaluation/18/chamfer_unseen.csv'\n",
    "\n",
    "with open(file, 'r') as f:\n",
    "    text = f.readlines()\n",
    "\n",
    "results_dict_all = {'all': []}\n",
    "\n",
    "for line in text[1:]:\n",
    "    cur_res = float(line.strip().split(',')[-1])\n",
    "    cat = line.strip().split(',')[0].split('/')[1]\n",
    "    if cat not in results_dict_all.keys():\n",
    "        results_dict_all[cat] = []\n",
    "    results_dict_all[cat].append(cur_res)\n",
    "    results_dict_all['all'].append(cur_res)\n",
    "\n",
    "for k, v in results_dict_all.items():\n",
    "    print('Category {}, chamfer {}\\n'.format(k, np.mean(v)))"
   ]
  },
  {
   "cell_type": "code",
   "execution_count": 4,
   "metadata": {},
   "outputs": [
    {
     "name": "stdout",
     "output_type": "stream",
     "text": [
      "Category all, chamfer 0.0006742687050290346\n",
      "\n",
      "Category 02933112, chamfer 0.0009564697336991292\n",
      "\n",
      "Category 02958343, chamfer 0.0005642239255254719\n",
      "\n",
      "Category 03211117, chamfer 0.00020479781248652166\n",
      "\n",
      "Category 02924116, chamfer 0.0007269548604436399\n",
      "\n",
      "Category 03467517, chamfer 5.320943390445815e-05\n",
      "\n",
      "Category 03046257, chamfer 0.00036838930056439347\n",
      "\n",
      "Category 02876657, chamfer 0.0012384433886727195\n",
      "\n",
      "Category 03797390, chamfer 0.0007139710084621261\n",
      "\n",
      "Category 03207941, chamfer 0.0018227686243362082\n",
      "\n",
      "Category 04090263, chamfer 9.345896219567685e-05\n",
      "\n"
     ]
    }
   ],
   "source": [
    "import numpy as np\n",
    "file = 'examples/all_computed_rot/Evaluation/18/chamfer_unseen.csv'\n",
    "\n",
    "with open(file, 'r') as f:\n",
    "    text = f.readlines()\n",
    "\n",
    "results_dict_all = {'all': []}\n",
    "\n",
    "for line in text[1:]:\n",
    "    cur_res = float(line.strip().split(',')[-1])\n",
    "    cat = line.strip().split(',')[0].split('/')[1]\n",
    "    if cat not in results_dict_all.keys():\n",
    "        results_dict_all[cat] = []\n",
    "    results_dict_all[cat].append(cur_res)\n",
    "    results_dict_all['all'].append(cur_res)\n",
    "\n",
    "for k, v in results_dict_all.items():\n",
    "    print('Category {}, chamfer {}\\n'.format(k, np.mean(v)))"
   ]
  },
  {
   "cell_type": "code",
   "execution_count": 5,
   "metadata": {},
   "outputs": [
    {
     "name": "stdout",
     "output_type": "stream",
     "text": [
      "Category all, chamfer 0.0006954551984683973\n",
      "\n",
      "Category 02933112, chamfer 0.0009745315680899236\n",
      "\n",
      "Category 02958343, chamfer 0.0005768064331316302\n",
      "\n",
      "Category 03211117, chamfer 0.0002089019762939905\n",
      "\n",
      "Category 02924116, chamfer 0.0007222503344677955\n",
      "\n",
      "Category 03467517, chamfer 6.298514646781434e-05\n",
      "\n",
      "Category 03046257, chamfer 0.0004304757027273484\n",
      "\n",
      "Category 02876657, chamfer 0.0012657063362683683\n",
      "\n",
      "Category 03797390, chamfer 0.0007280921083662907\n",
      "\n",
      "Category 03207941, chamfer 0.0018858873734837042\n",
      "\n",
      "Category 04090263, chamfer 9.891500538710675e-05\n",
      "\n"
     ]
    }
   ],
   "source": [
    "import numpy as np\n",
    "file = 'examples/all/Evaluation/18/chamfer_unseen.csv'\n",
    "\n",
    "with open(file, 'r') as f:\n",
    "    text = f.readlines()\n",
    "\n",
    "results_dict_all = {'all': []}\n",
    "\n",
    "for line in text[1:]:\n",
    "    cur_res = float(line.strip().split(',')[-1])\n",
    "    cat = line.strip().split(',')[0].split('/')[1]\n",
    "    if cat not in results_dict_all.keys():\n",
    "        results_dict_all[cat] = []\n",
    "    results_dict_all[cat].append(cur_res)\n",
    "    results_dict_all['all'].append(cur_res)\n",
    "\n",
    "for k, v in results_dict_all.items():\n",
    "    print('Category {}, chamfer {}\\n'.format(k, np.mean(v)))"
   ]
  },
  {
   "cell_type": "code",
   "execution_count": 3,
   "metadata": {},
   "outputs": [
    {
     "name": "stdout",
     "output_type": "stream",
     "text": [
      "Category all, chamfer 0.0006906462056425373\n",
      "\n",
      "Category 02933112, chamfer 0.0009664329690262607\n",
      "\n",
      "Category 02958343, chamfer 0.0005797993553189742\n",
      "\n",
      "Category 03211117, chamfer 0.00024064434588696554\n",
      "\n",
      "Category 02924116, chamfer 0.0007367079986008927\n",
      "\n",
      "Category 03467517, chamfer 5.796238498559679e-05\n",
      "\n",
      "Category 03046257, chamfer 0.00040239107489775243\n",
      "\n",
      "Category 02876657, chamfer 0.0012420338949332406\n",
      "\n",
      "Category 03797390, chamfer 0.0007207844506949448\n",
      "\n",
      "Category 03207941, chamfer 0.0018559514165021385\n",
      "\n",
      "Category 04090263, chamfer 0.00010375416557860669\n",
      "\n"
     ]
    }
   ],
   "source": [
    "import numpy as np\n",
    "file = 'examples/all_computed_rot_quad/Evaluation/18/chamfer_unseen.csv'\n",
    "\n",
    "with open(file, 'r') as f:\n",
    "    text = f.readlines()\n",
    "\n",
    "results_dict_all = {'all': []}\n",
    "\n",
    "for line in text[1:]:\n",
    "    cur_res = float(line.strip().split(',')[-1])\n",
    "    cat = line.strip().split(',')[0].split('/')[1]\n",
    "    if cat not in results_dict_all.keys():\n",
    "        results_dict_all[cat] = []\n",
    "    results_dict_all[cat].append(cur_res)\n",
    "    results_dict_all['all'].append(cur_res)\n",
    "\n",
    "for k, v in results_dict_all.items():\n",
    "    print('Category {}, chamfer {}\\n'.format(k, np.mean(v)))"
   ]
  },
  {
   "cell_type": "code",
   "execution_count": 9,
   "metadata": {},
   "outputs": [
    {
     "name": "stdout",
     "output_type": "stream",
     "text": [
      "Category all, chamfer 0.00031772440592803074\n",
      "\n",
      "Category 02933112, chamfer 0.00041959478875047376\n",
      "\n",
      "Category 02958343, chamfer 0.00030913799201697135\n",
      "\n",
      "Category 03211117, chamfer 0.00018636736419884223\n",
      "\n",
      "Category 02924116, chamfer 0.0003661383848565798\n",
      "\n",
      "Category 03467517, chamfer 0.00012313514105936798\n",
      "\n",
      "Category 03046257, chamfer 0.00035648235936334803\n",
      "\n",
      "Category 02876657, chamfer 0.0004474753457697174\n",
      "\n",
      "Category 03797390, chamfer 0.000258056217128549\n",
      "\n",
      "Category 03207941, chamfer 0.00042299462846758716\n",
      "\n",
      "Category 04090263, chamfer 0.00028786183766887045\n",
      "\n"
     ]
    }
   ],
   "source": [
    "import numpy as np\n",
    "file = 'examples/all_computed_rot_quad_last/Evaluation/18/chamfer_unseen.csv'\n",
    "\n",
    "with open(file, 'r') as f:\n",
    "    text = f.readlines()\n",
    "\n",
    "results_dict_all = {'all': []}\n",
    "\n",
    "for line in text[1:]:\n",
    "    cur_res = float(line.strip().split(',')[-1])\n",
    "    cat = line.strip().split(',')[0].split('/')[1]\n",
    "    if cat not in results_dict_all.keys():\n",
    "        results_dict_all[cat] = []\n",
    "    results_dict_all[cat].append(cur_res)\n",
    "    results_dict_all['all'].append(cur_res)\n",
    "\n",
    "for k, v in results_dict_all.items():\n",
    "    print('Category {}, chamfer {}\\n'.format(k, np.mean(v)))"
   ]
  },
  {
   "cell_type": "code",
   "execution_count": 1,
   "metadata": {},
   "outputs": [
    {
     "name": "stdout",
     "output_type": "stream",
     "text": [
      "Category all, chamfer 0.0003106268164874831\n",
      "\n",
      "Category 02933112, chamfer 0.00043027619080794567\n",
      "\n",
      "Category 02958343, chamfer 0.00031458640082002447\n",
      "\n",
      "Category 03211117, chamfer 0.0001621871569012357\n",
      "\n",
      "Category 02924116, chamfer 0.00034019109163847155\n",
      "\n",
      "Category 03467517, chamfer 0.00011433729738621801\n",
      "\n",
      "Category 03046257, chamfer 0.00031637340000565566\n",
      "\n",
      "Category 02876657, chamfer 0.00045241125343567626\n",
      "\n",
      "Category 03797390, chamfer 0.00025235082898636375\n",
      "\n",
      "Category 03207941, chamfer 0.0004270761367574878\n",
      "\n",
      "Category 04090263, chamfer 0.00029647840813575173\n",
      "\n"
     ]
    }
   ],
   "source": [
    "import numpy as np\n",
    "file = 'examples/all/Evaluation/18/chamfer_unseen.csv'\n",
    "\n",
    "with open(file, 'r') as f:\n",
    "    text = f.readlines()\n",
    "\n",
    "results_dict_all = {'all': []}\n",
    "\n",
    "for line in text[1:]:\n",
    "    cur_res = float(line.strip().split(',')[-1])\n",
    "    cat = line.strip().split(',')[0].split('/')[1]\n",
    "    if cat not in results_dict_all.keys():\n",
    "        results_dict_all[cat] = []\n",
    "    results_dict_all[cat].append(cur_res)\n",
    "    results_dict_all['all'].append(cur_res)\n",
    "\n",
    "for k, v in results_dict_all.items():\n",
    "    print('Category {}, chamfer {}\\n'.format(k, np.mean(v)))"
   ]
  }
 ],
 "metadata": {
  "kernelspec": {
   "display_name": "3dgen",
   "language": "python",
   "name": "python3"
  },
  "language_info": {
   "codemirror_mode": {
    "name": "ipython",
    "version": 3
   },
   "file_extension": ".py",
   "mimetype": "text/x-python",
   "name": "python",
   "nbconvert_exporter": "python",
   "pygments_lexer": "ipython3",
   "version": "3.8.17"
  },
  "orig_nbformat": 4
 },
 "nbformat": 4,
 "nbformat_minor": 2
}
