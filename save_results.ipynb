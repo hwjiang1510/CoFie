{
 "cells": [
  {
   "cell_type": "code",
   "execution_count": 5,
   "metadata": {},
   "outputs": [],
   "source": [
    "import trimesh\n",
    "import numpy as np\n",
    "import torch\n",
    "import numpy as np\n",
    "from scipy.spatial import cKDTree as KDTree\n",
    "import pyrender\n",
    "from PIL import Image\n",
    "import os"
   ]
  },
  {
   "cell_type": "code",
   "execution_count": 2,
   "metadata": {},
   "outputs": [],
   "source": [
    "def get_path(name, type='gt'):\n",
    "    if type == 'gt':\n",
    "        path = '/vision/hwjiang/datasets/Thingi10K/selected/data/{}/model/{}.obj'.format(name, name)\n",
    "    elif type == 'nglod':\n",
    "        path = '/vision/hwjiang/3d_generation/DeepLocalShapes/examples/nglod/{}/mc_res256.obj'.format(name)\n",
    "    elif type == 'recon':\n",
    "        path = '/vision/hwjiang/3d_generation/DeepLocalShapes/examples/all_computed_rot_quad_last/Reconstructions/18/Meshes/thingi/data/{}.ply'.format(name)\n",
    "    return path\n",
    "\n",
    "def load_mesh(path):\n",
    "    mesh = trimesh.load(path)\n",
    "    trimesh.repair.fix_inversion(mesh)\n",
    "    rot_angle = np.radians(-90)\n",
    "    rot_mat = trimesh.transformations.rotation_matrix(rot_angle, [1,0,0])\n",
    "    mesh.apply_transform(rot_mat)\n",
    "    return mesh"
   ]
  },
  {
   "cell_type": "code",
   "execution_count": 37,
   "metadata": {},
   "outputs": [],
   "source": [
    "def compute_normalization_parameters(mesh, buffer=1.03):\n",
    "    if not isinstance(mesh, trimesh.Trimesh):\n",
    "        raise ValueError(\"Input must be a trimesh.Trimesh object.\")\n",
    "\n",
    "    # Only consider vertices used in the faces of the mesh\n",
    "    used_vertices = mesh.vertices[mesh.faces.flatten()]\n",
    "    # Compute min and max in each dimension\n",
    "    min_coords = used_vertices.min(axis=0)\n",
    "    max_coords = used_vertices.max(axis=0)\n",
    "    # Compute the center\n",
    "    center = (max_coords + min_coords) / 2.0\n",
    "    # Make the mean zero\n",
    "    distances = np.linalg.norm(used_vertices - center, axis=1)\n",
    "    max_distance = distances.max()\n",
    "    # Add some buffer\n",
    "    max_distance *= buffer\n",
    "    return -center, 1.0 / max_distance\n",
    "\n",
    "\n",
    "def normalize_mesh(mesh, scale, offset):\n",
    "    if not isinstance(mesh, trimesh.Trimesh):\n",
    "        raise ValueError(\"Input must be a trimesh.Trimesh object.\")\n",
    "    # Create a copy of the mesh to avoid modifying the original mesh\n",
    "    normalized_mesh = mesh.copy()\n",
    "    # Normalize the vertices\n",
    "    normalized_mesh.vertices = (normalized_mesh.vertices / scale) - offset\n",
    "    return normalized_mesh"
   ]
  },
  {
   "cell_type": "code",
   "execution_count": 9,
   "metadata": {},
   "outputs": [
    {
     "data": {
      "text/plain": [
       "['372114',\n",
       " '35269',\n",
       " '78671',\n",
       " '47984',\n",
       " '72960',\n",
       " '72896',\n",
       " '68381',\n",
       " '72881',\n",
       " '95444',\n",
       " '68380',\n",
       " '92880',\n",
       " '75496',\n",
       " '87601',\n",
       " '441708',\n",
       " '77458',\n",
       " '135771',\n",
       " '551021',\n",
       " '87522',\n",
       " '73877']"
      ]
     },
     "execution_count": 9,
     "metadata": {},
     "output_type": "execute_result"
    }
   ],
   "source": [
    "names = os.listdir('./examples/all_computed_rot_quad_last/Reconstructions/18/Meshes/thingi/data')\n",
    "names = [it.replace('.ply', '') for it in names]\n",
    "names"
   ]
  },
  {
   "cell_type": "code",
   "execution_count": 10,
   "metadata": {},
   "outputs": [],
   "source": [
    "for name in names:\n",
    "    mesh_gt = load_mesh(get_path(name, type='gt'))\n",
    "    center, scale = compute_normalization_parameters(mesh_gt)\n",
    "\n",
    "    mesh_nglod = load_mesh(get_path(name, type='nglod'))\n",
    "\n",
    "    mesh_recon = load_mesh(get_path(name, type='recon'))\n",
    "    mesh_recon_norm = normalize_mesh(mesh_recon, scale, center)\n",
    "\n",
    "    save_path = './examples/save/thingi/{}'.format(name)\n",
    "    os.makedirs(save_path, exist_ok=True)\n",
    "\n",
    "    with open(os.path.join(save_path, 'gt.obj'), 'w') as f:\n",
    "        mesh_gt.export(f, file_type='obj')\n",
    "\n",
    "    with open(os.path.join(save_path, 'nglod.obj'), 'w') as f:\n",
    "        mesh_nglod.export(f, file_type='obj')\n",
    "\n",
    "    with open(os.path.join(save_path, 'recon.obj'), 'w') as f:\n",
    "        mesh_recon_norm.export(f, file_type='obj')"
   ]
  },
  {
   "cell_type": "code",
   "execution_count": 11,
   "metadata": {},
   "outputs": [
    {
     "data": {
      "text/plain": [
       "(-33.3679313659668,\n",
       " 91.73355102539062,\n",
       " -33.26531388,\n",
       " 91.73834745,\n",
       " -0.7944979667663574,\n",
       " 0.7937690019607544,\n",
       " -33.020129125355176,\n",
       " 91.74505896257571)"
      ]
     },
     "execution_count": 11,
     "metadata": {},
     "output_type": "execute_result"
    }
   ],
   "source": [
    "mesh_gt.vertices.min(), mesh_gt.vertices.max(), mesh_nglod.vertices.min(), mesh_nglod.vertices.max(), mesh_recon.vertices.min(), mesh_recon.vertices.max(), mesh_recon_norm.vertices.min(), mesh_recon_norm.vertices.max()"
   ]
  },
  {
   "cell_type": "code",
   "execution_count": 31,
   "metadata": {},
   "outputs": [],
   "source": [
    "from scipy.spatial import cKDTree as KDTree\n",
    "\n",
    "def compute_chamfer(points1, points2):\n",
    "    # gen_points_kd_tree = KDTree(points2)\n",
    "    # one_distances, one_vertex_ids = gen_points_kd_tree.query(points1)\n",
    "    # gt_to_gen_chamfer = np.mean(np.square(one_distances))\n",
    "\n",
    "    # other direction\n",
    "    gt_points_kd_tree = KDTree(points1)\n",
    "    two_distances, two_vertex_ids = gt_points_kd_tree.query(points2)\n",
    "    gen_to_gt_chamfer = np.mean(np.square(two_distances))\n",
    "\n",
    "    return gen_to_gt_chamfer * 2 #gt_to_gen_chamfer + gen_to_gt_chamfer"
   ]
  },
  {
   "cell_type": "code",
   "execution_count": 14,
   "metadata": {},
   "outputs": [],
   "source": [
    "points_gt = trimesh.sample.sample_surface(mesh_gt, 30000)[0]\n",
    "points_nglod = trimesh.sample.sample_surface(mesh_nglod, 30000)[0]\n",
    "points_recon = trimesh.sample.sample_surface(mesh_recon_norm, 30000)[0]"
   ]
  },
  {
   "cell_type": "code",
   "execution_count": 15,
   "metadata": {},
   "outputs": [
    {
     "data": {
      "text/plain": [
       "(-33.28260584870858,\n",
       " 91.72999014501119,\n",
       " -33.08811528834172,\n",
       " 91.73371302968461,\n",
       " -32.905186568449004,\n",
       " 91.73377526299664)"
      ]
     },
     "execution_count": 15,
     "metadata": {},
     "output_type": "execute_result"
    }
   ],
   "source": [
    "points_gt.min(), points_gt.max(), points_nglod.min(), points_nglod.max(), points_recon.min(), points_recon.max()"
   ]
  },
  {
   "cell_type": "code",
   "execution_count": 20,
   "metadata": {},
   "outputs": [],
   "source": [
    "points_gt_norm = (points_gt + center) * scale\n",
    "points_nglod_norm = (points_nglod + center) * scale\n",
    "points_recon_norm = (points_recon + center ) * scale"
   ]
  },
  {
   "cell_type": "code",
   "execution_count": 27,
   "metadata": {},
   "outputs": [
    {
     "data": {
      "text/plain": [
       "0.0018858830177252445"
      ]
     },
     "execution_count": 27,
     "metadata": {},
     "output_type": "execute_result"
    }
   ],
   "source": [
    "compute_chamfer(points_gt_norm, points_recon_norm)"
   ]
  },
  {
   "cell_type": "code",
   "execution_count": 34,
   "metadata": {},
   "outputs": [
    {
     "data": {
      "text/plain": [
       "(TrackedArray([-0.28822969, -0.90452258, -0.275304  ]),\n",
       " TrackedArray([0.28892364, 0.90428242, 0.27534764]),\n",
       " TrackedArray([-0.28932856, -0.90639004, -0.27630728]),\n",
       " TrackedArray([0.28693009, 0.90363156, 0.27504741]),\n",
       " TrackedArray([-0.29171609, -0.90613183, -0.27527705]),\n",
       " TrackedArray([0.28043954, 0.902576  , 0.2772757 ]))"
      ]
     },
     "execution_count": 34,
     "metadata": {},
     "output_type": "execute_result"
    }
   ],
   "source": [
    "points_gt_norm.min(axis=0), points_gt_norm.max(axis=0), points_nglod_norm.min(axis=0), points_nglod_norm.max(axis=0), points_recon_norm.min(axis=0), points_recon_norm.max(axis=0)"
   ]
  },
  {
   "cell_type": "code",
   "execution_count": 38,
   "metadata": {},
   "outputs": [
    {
     "name": "stdout",
     "output_type": "stream",
     "text": [
      "73877 0.00012383940501876686 0.0035566418794391787\n"
     ]
    }
   ],
   "source": [
    "dists_nglod, dists_recon = [], []\n",
    "\n",
    "for name in names[::-1][:1]:\n",
    "    mesh_gt = load_mesh(get_path(name, type='gt'))\n",
    "    center, scale = compute_normalization_parameters(mesh_gt)\n",
    "\n",
    "    mesh_nglod = load_mesh(get_path(name, type='nglod'))\n",
    "\n",
    "    mesh_recon = load_mesh(get_path(name, type='recon'))\n",
    "    mesh_recon_norm = normalize_mesh(mesh_recon, scale, center)\n",
    "\n",
    "    points_gt = trimesh.sample.sample_surface(mesh_gt, 30000)[0]\n",
    "    points_nglod = trimesh.sample.sample_surface(mesh_nglod, 30000)[0]\n",
    "    points_recon = trimesh.sample.sample_surface(mesh_recon_norm, 30000)[0]\n",
    "    points_gt_norm = (points_gt + center) * scale\n",
    "    points_nglod_norm = (points_nglod + center) * scale\n",
    "    points_recon_norm = (points_recon + center ) * scale\n",
    "\n",
    "    dist1 = compute_chamfer(points_gt_norm, points_nglod_norm)\n",
    "    dist2 = compute_chamfer(points_gt_norm, points_recon_norm)\n",
    "    dists_nglod.append(dist1)\n",
    "    dists_recon.append(dist2)\n",
    "    print(name, dist1, dist2)"
   ]
  },
  {
   "cell_type": "code",
   "execution_count": 33,
   "metadata": {},
   "outputs": [
    {
     "data": {
      "text/plain": [
       "0.00010396154431624436"
      ]
     },
     "execution_count": 33,
     "metadata": {},
     "output_type": "execute_result"
    }
   ],
   "source": [
    "np.mean(dists_nglod)"
   ]
  }
 ],
 "metadata": {
  "kernelspec": {
   "display_name": "3dgen",
   "language": "python",
   "name": "python3"
  },
  "language_info": {
   "codemirror_mode": {
    "name": "ipython",
    "version": 3
   },
   "file_extension": ".py",
   "mimetype": "text/x-python",
   "name": "python",
   "nbconvert_exporter": "python",
   "pygments_lexer": "ipython3",
   "version": "3.8.17"
  }
 },
 "nbformat": 4,
 "nbformat_minor": 2
}
