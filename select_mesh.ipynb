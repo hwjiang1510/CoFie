{
 "cells": [
  {
   "cell_type": "code",
   "execution_count": 5,
   "metadata": {},
   "outputs": [],
   "source": [
    "import os\n",
    "import numpy as np\n",
    "from stl import mesh\n",
    "import pywavefront\n",
    "import trimesh\n",
    "\n",
    "def convert_stl_to_obj(stl_file, obj_file):\n",
    "    # Read the STL file\n",
    "    trimesh_mesh = trimesh.load(stl_file)\n",
    "    save_path = stl_file.replace('.stl', '_2.stl')\n",
    "    trimesh.repair.fix_inversion(trimesh_mesh)\n",
    "    trimesh_mesh.export(save_path)\n",
    "\n",
    "    stl_mesh = mesh.Mesh.from_file(save_path)\n",
    "    \n",
    "    #stl_mesh = mesh.Mesh.from_file(stl_file)\n",
    "\n",
    "    # Extract vertices and faces\n",
    "    vertices = np.array(stl_mesh.vectors).reshape(-1, 3)\n",
    "    #faces = np.arange(len(vertices)).reshape(-1, 3) + 1  # OBJ files are 1-indexed\n",
    "    flipped_vertices = vertices[:, ::-1]  # Reverse the order of vertices for each face\n",
    "    flattened_vertices = flipped_vertices.reshape(-1, 3)\n",
    "    faces = np.arange(flattened_vertices.shape[0]).reshape(-1, 3) + 1  # OBJ files are 1-indexed\n",
    "\n",
    "    # Write to OBJ file\n",
    "    with open(obj_file, 'w') as file:\n",
    "        for vertex in vertices:\n",
    "            file.write(f'v {vertex[0]} {vertex[1]} {vertex[2]}\\n')\n",
    "        for face in faces:\n",
    "            file.write(f'f {face[0]} {face[1]} {face[2]}\\n')"
   ]
  },
  {
   "cell_type": "code",
   "execution_count": 2,
   "metadata": {},
   "outputs": [],
   "source": [
    "mesh_ids = [77458, 78671, 87522, 95444, 73877, 92880, 135771, 72896, 372114, 551021, 35269, 72881, 87601, 354371, 47984, 72960, 75496, 441708, 68380, 68381]"
   ]
  },
  {
   "cell_type": "code",
   "execution_count": 3,
   "metadata": {},
   "outputs": [],
   "source": [
    "source_path = '/vision/hwjiang/datasets/Thingi10K/raw_meshes'\n",
    "target_path = '/vision/hwjiang/datasets/Thingi10K/selected2'"
   ]
  },
  {
   "cell_type": "code",
   "execution_count": 6,
   "metadata": {},
   "outputs": [],
   "source": [
    "for id in mesh_ids:\n",
    "    mesh_file = os.path.join(source_path, str(id) + '.stl')\n",
    "    save_path = os.path.join(target_path, 'data', str(id), 'model')\n",
    "    os.makedirs(save_path, exist_ok=True)\n",
    "    save_file = os.path.join(save_path, str(id) + '.obj')\n",
    "    convert_stl_to_obj(mesh_file, save_file)"
   ]
  }
 ],
 "metadata": {
  "kernelspec": {
   "display_name": "3dgen",
   "language": "python",
   "name": "python3"
  },
  "language_info": {
   "codemirror_mode": {
    "name": "ipython",
    "version": 3
   },
   "file_extension": ".py",
   "mimetype": "text/x-python",
   "name": "python",
   "nbconvert_exporter": "python",
   "pygments_lexer": "ipython3",
   "version": "3.8.17"
  }
 },
 "nbformat": 4,
 "nbformat_minor": 2
}
